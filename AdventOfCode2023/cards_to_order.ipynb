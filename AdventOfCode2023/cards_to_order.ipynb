{
 "cells": [
  {
   "cell_type": "code",
   "execution_count": 47,
   "id": "743c3acc",
   "metadata": {},
   "outputs": [
    {
     "name": "stdout",
     "output_type": "stream",
     "text": [
      "[[5, 6, 7], [17, 18, 19], [46, 47, 48], [54, 55, 56], [63, 64, 65], [89, 90, 91], [96, 97, 98], [117, 118, 119], [134, 135, 136]]\n"
     ]
    }
   ],
   "source": [
    "import numpy as np\n",
    "import os\n",
    "os.chdir(r'C:\\Users\\igorm\\OneDrive\\Pulpit\\Programowanie\\AdventFiles')\n",
    "\n",
    "\n",
    "with open('matrice.txt','r') as file:\n",
    "    file = file.read()\n",
    "file = file.split('\\n')\n",
    "\n",
    "\n",
    "def is_symbol(element):\n",
    "    if (not element.isdigit()) and element != '.':\n",
    "        return True\n",
    "    else:\n",
    "        return False\n",
    "\n",
    "file = {x:file[x] for x in range(len(file))}\n",
    "\n",
    "def get_numbers(row):\n",
    "    all_numbers = []\n",
    "    n = 0\n",
    "    while n < len(row):\n",
    "        one_number = []\n",
    "        while n < len(row) and row[n].isdigit():\n",
    "            one_number.append(n)\n",
    "            n = n+1\n",
    "        n = n+1\n",
    "        if len(one_number)  != 0:\n",
    "            all_numbers.append(one_number)\n",
    "    return all_numbers\n",
    "\n",
    "def broader(number):\n",
    "    n_max = max(number)\n",
    "    n_min = min(number)\n",
    "    b_number = number.copy()\n",
    "    if n_max < 139:\n",
    "        b_number.append(n_max+1)\n",
    "    if n_min > 0:\n",
    "        b_number.insert(0,n_min-1)\n",
    "    return(b_number)\n",
    "\n",
    "number_file = {x:get_numbers(file[x]) for x in file}\n",
    "\n",
    "def get_true_numbers(n):\n",
    "    true_numbers = []\n",
    "    for number in number_file[n]:\n",
    "        for index in broader(number):\n",
    "            if n > 0 and is_symbol(file[n-1][index]):\n",
    "                true_numbers.append(number)\n",
    "                continue\n",
    "            elif is_symbol(file[n][index]):\n",
    "                true_numbers.append(number)\n",
    "                continue\n",
    "            elif n < 139 and is_symbol(file[n+1][index]):\n",
    "                true_numbers.append(number)\n",
    "                continue\n",
    "    return true_numbers\n",
    "            \n",
    "true_number_file = {x:get_true_numbers(x) for x in number_file}\n",
    "        \n",
    "true_numbers = []\n",
    "for row in true_number_file:\n",
    "    for y in true_number_file[row]:\n",
    "        new_number = []\n",
    "        for i in y:\n",
    "            new_number.append(file[row][i])\n",
    "        true_numbers.append(''.join(new_number))\n",
    "\n",
    "true_numbers = [int(x) for x in true_numbers]\n",
    "        \n",
    "def star_cords():\n",
    "    star_file = {}\n",
    "    for row in file:\n",
    "        row_stars = []\n",
    "        for sign in range(len(file[row])):\n",
    "            if file[row][sign] == '*':\n",
    "                row_stars.append(sign)\n",
    "        star_file[row] = row_stars\n",
    "    return star_file\n",
    "\n",
    "star_file = star_cords()\n",
    "\n",
    "def read(number,row):\n",
    "    new_number = []\n",
    "    for i in number:\n",
    "        new_number.append(file[row][i])\n",
    "    return int(''.join(new_number))\n",
    "    \n",
    "sum_list = []\n",
    "\n",
    "for row in star_file:\n",
    "    for star in star_file[row]:\n",
    "        star_numbers = []\n",
    "        if row != 0:\n",
    "            for number in number_file[row-1]:\n",
    "                if star-1 in number or star in number or star+1 in number:\n",
    "                    star_numbers.append(read(number,row-1))\n",
    "        for number in number_file[row]:\n",
    "            if star-1 in number or star in number or star+1 in number:\n",
    "                star_numbers.append(read(number,row))\n",
    "        if row !=139:\n",
    "            for number in number_file[row+1]:\n",
    "                if star-1 in number or star in number or star+1 in number:\n",
    "                    star_numbers.append(read(number,row+1))\n",
    "        if len(star_numbers) > 1:\n",
    "            star_numbers = np.prod(star_numbers)\n",
    "            sum_list.append(star_numbers)\n",
    "\n",
    "\n",
    "            \n",
    "        \n",
    "      \n",
    "print(number_file[0])\n",
    "                    \n",
    "                \n",
    "            \n",
    "            \n",
    "            \n",
    "    \n",
    "\n"
   ]
  },
  {
   "cell_type": "code",
   "execution_count": 48,
   "id": "a46e7c56",
   "metadata": {
    "scrolled": true
   },
   "outputs": [
    {
     "name": "stdout",
     "output_type": "stream",
     "text": [
      "81939900\n"
     ]
    }
   ],
   "source": [
    "print(sum(sum_list))"
   ]
  },
  {
   "cell_type": "code",
   "execution_count": 25,
   "id": "193cf18c",
   "metadata": {},
   "outputs": [
    {
     "name": "stdout",
     "output_type": "stream",
     "text": [
      "1\n",
      "*\n"
     ]
    }
   ],
   "source": [
    "print(file[139][97])\n",
    "print(file[138][96])\n",
    "\n",
    "    "
   ]
  },
  {
   "cell_type": "code",
   "execution_count": 36,
   "id": "804b1a7e",
   "metadata": {},
   "outputs": [],
   "source": [
    "row = 138\n",
    "star = 96\n",
    "star_numbers = {}\n",
    "if row !=139:\n",
    "    for number in number_file[row+1]:\n",
    "        if star-1 in number or star in number or star+1 in number:\n",
    "            star_numbers[row+1] = number\n",
    "            "
   ]
  },
  {
   "cell_type": "code",
   "execution_count": 37,
   "id": "1cfcb539",
   "metadata": {},
   "outputs": [
    {
     "name": "stdout",
     "output_type": "stream",
     "text": [
      "{139: [97, 98]}\n"
     ]
    }
   ],
   "source": [
    "print(star_numbers)"
   ]
  },
  {
   "cell_type": "code",
   "execution_count": null,
   "id": "3d0b8cf1",
   "metadata": {},
   "outputs": [],
   "source": []
  }
 ],
 "metadata": {
  "kernelspec": {
   "display_name": "Python 3 (ipykernel)",
   "language": "python",
   "name": "python3"
  },
  "language_info": {
   "codemirror_mode": {
    "name": "ipython",
    "version": 3
   },
   "file_extension": ".py",
   "mimetype": "text/x-python",
   "name": "python",
   "nbconvert_exporter": "python",
   "pygments_lexer": "ipython3",
   "version": "3.11.5"
  }
 },
 "nbformat": 4,
 "nbformat_minor": 5
}
